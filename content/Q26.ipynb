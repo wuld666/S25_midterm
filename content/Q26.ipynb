{
 "cells": [
  {
   "cell_type": "markdown",
   "metadata": {},
   "source": [
    "# Exam 1 - Part B | ITSS 4382.001 Applied AI/Machine Learning\n",
    "**PART A:** Answer the MCQs.<br>\n",
    "<font color='red'>**PART B:** Answer the following questions in the provided response boxes. You may use the online Jupyter environment to test and execute your code. After confirming your results, copy and paste your final answers into the appropriate boxes below. **Note: All answers must be submitted through eLearning for grading.**</font>"
   ]
  },
  {
   "cell_type": "code",
   "execution_count": null,
   "metadata": {
    "trusted": true
   },
   "outputs": [],
   "source": [
    "import numpy as np\n",
    "import pandas as pd\n",
    "import sklearn\n",
    "from sklearn.linear_model import LinearRegression\n",
    "from sklearn.preprocessing import PolynomialFeatures\n",
    "from sklearn.preprocessing import StandardScaler\n",
    "from sklearn.pipeline import make_pipeline\n",
    "from sklearn.model_selection import GridSearchCV\n",
    "from sklearn.model_selection import train_test_split\n",
    "from sklearn.neighbors import KNeighborsClassifier\n",
    "\n",
    "from sklearn.metrics import mean_squared_error\n",
    "from sklearn.metrics import r2_score\n",
    "\n",
    "import matplotlib.pyplot as plt\n",
    "%matplotlib inline\n",
    "import seaborn as sns\n",
    "import warnings\n",
    "warnings.filterwarnings('ignore')"
   ]
  },
  {
   "cell_type": "markdown",
   "metadata": {},
   "source": [
    "<br />\n",
    "\n",
    "# The Dataset\n",
    "\n",
    "In this test, we would like to study the taste preference of red wine. You need to train regression and classification models and answer corresponding questions.\n",
    "\n",
    "#### Data and Setting\n",
    "\n",
    "We consider *vinho verde*, a unique product from the Minho (northwest) region of Portugal. Testers are invited to taste the wine and rate the wine quality. The detailed information of wine can be found in the loaded dataset. Variables are listed below. (You can skip the variable description as they are mostly area-specific terminologies).\n",
    "\n",
    "\n",
    "- Fixed acidity (g(tartaric acid)/dm3)\n",
    "- Volatile acidity (g(acetic acid)/dm3)\n",
    "-\tCitric acid (g/dm3)\n",
    "-\tResidual sugar (g/dm3)\n",
    "-\tChlorides (g(sodium chloride)/dm3)\n",
    "-\tFree sulfur dioxide (mg/dm3)\n",
    "-\tTotal sulfur dioxide (mg/dm3)\n",
    "-\tDensity (g/cm3)\n",
    "-\tpH\n",
    "-\tSulphates (g(potassium sulphate)/dm3)\n",
    "-\tAlcohol (vol.%)\n",
    "-\tQuality: wine quality rated by tester\n",
    "\n",
    "To load the data, we are importing the dataset from UCI website and spliting the data. We use the following columns as input features: 'alcohol', 'volatile acidity', and 'sulphates'. The target variable is 'quality'. Run the cell below to obtain summary statistics of the data."
   ]
  },
  {
   "cell_type": "code",
   "execution_count": null,
   "metadata": {
    "trusted": true
   },
   "outputs": [],
   "source": [
    "# Load the dataset (replace with your path or URL)\n",
    "url = 'https://archive.ics.uci.edu/ml/machine-learning-databases/wine-quality/winequality-red.csv'\n",
    "wine = pd.read_csv(url, sep=';')  # For red wine dataset\n",
    "wine.head(10)"
   ]
  },
  {
   "cell_type": "code",
   "execution_count": null,
   "metadata": {
    "trusted": true
   },
   "outputs": [],
   "source": [
    "wine.columns"
   ]
  },
  {
   "cell_type": "code",
   "execution_count": null,
   "metadata": {
    "trusted": true
   },
   "outputs": [],
   "source": [
    "# Plot the correlation matrix\n",
    "sns.heatmap(wine.corr())"
   ]
  },
  {
   "cell_type": "code",
   "execution_count": null,
   "metadata": {
    "trusted": true
   },
   "outputs": [],
   "source": [
    "# Define features (X) and target (y)\n",
    "var = ['alcohol', 'volatile acidity', 'sulphates']\n",
    "X = wine[var]\n",
    "y = wine['quality']\n",
    "\n",
    "from sklearn.model_selection import train_test_split\n",
    "X_train, X_test, y_train, y_test = train_test_split(X, y, test_size=0.25, random_state=42)"
   ]
  },
  {
   "cell_type": "markdown",
   "metadata": {},
   "source": [
    "\n",
    "\n",
    "# <font color='red'>PART B1. Regression Models</font>\n",
    "\n",
    "## Q26a. Linear Regression (5 pts)\n",
    "\n",
    "- Train a linear model using the above training set. (3 pts) Report the coefficients of variables. (2 pts)"
   ]
  },
  {
   "cell_type": "markdown",
   "metadata": {},
   "source": [
    "## Q26b. Prediction (4 pts)\n",
    "\n",
    "- Define a new wine sample with the same number of features as the training set: **(7; 0.27; 0.36; 20.7; 0.045; 45; 170; 1.001; 3; 0.45; 8.8)** (features are listed in the same order as the X variables, e.g., 'fixed acidity' = 7, 'volatile acidity' = 0.27, etc.). Use the trained model to predict the quality of the wine based on this new sample.\n",
    "    - 7 (fixed acidity)\n",
    "    - 0.27 (volatile acidity)\n",
    "    - 0.36 (citric acid)\n",
    "    - 20.7 (residual sugar)\n",
    "    - 0.045 (chlorides)\n",
    "    - 45 (free sulfur dioxide)\n",
    "    - 170 (total sulfur dioxide)\n",
    "    - 1.001 (density)\n",
    "    - 3 (pH)\n",
    "    - 0.45 (sulphates)\n",
    "    - 8.8 (alcohol)"
   ]
  },
  {
   "cell_type": "markdown",
   "metadata": {},
   "source": [
    "## Q26c. Measurement  (5 pts)\n",
    "- We would like to use the R² score and Mean Squared Error (MSE) as the performance measure. What are the R² score and MSE for both the training and test sets?\n"
   ]
  },
  {
   "cell_type": "code",
   "execution_count": null,
   "metadata": {
    "trusted": true
   },
   "outputs": [],
   "source": [
    "# WRITE AND TEST YOUR CODE HERE\n",
    "# Do NOT forget to submit via eLearning\n",
    "\n",
    "\n",
    "\n",
    "\n",
    "\n",
    "\n",
    "\n",
    "\n",
    "\n",
    "\n",
    "\n",
    "\n",
    "\n"
   ]
  },
  {
   "cell_type": "code",
   "execution_count": null,
   "metadata": {
    "trusted": true
   },
   "outputs": [],
   "source": [
    "# Add more blocks if needed\n",
    "\n"
   ]
  },
  {
   "cell_type": "code",
   "execution_count": null,
   "metadata": {
    "trusted": true
   },
   "outputs": [],
   "source": [
    "# Add more blocks if needed\n",
    "\n"
   ]
  },
  {
   "cell_type": "markdown",
   "metadata": {},
   "source": [
    "### Q27. Polynomial Regression (11 pts)\n",
    "\n",
    "- Train a Polynomial regression model using the training set and the degree is 4. (4 pts)\n",
    "- What is the R² for the test set? (2 pts) What is the R² for the training set? (2 pts)\n",
    "- Report the coefficients and the intercept of the above polynomial regression model. (3 pts)"
   ]
  },
  {
   "cell_type": "code",
   "execution_count": null,
   "metadata": {
    "trusted": true
   },
   "outputs": [],
   "source": [
    "# WRITE AND TEST YOUR CODE HERE\n",
    "# Do NOT forget to submit via eLearning\n",
    "\n",
    "\n",
    "\n",
    "\n",
    "\n",
    "\n",
    "\n"
   ]
  },
  {
   "cell_type": "markdown",
   "metadata": {},
   "source": [
    "## Q28. Cross Validation (11 pts)\n",
    "\n",
    "- Apply grid search for hyperparameter tuning to train a polynomial Linear Regression model on the training data *X_train* for degrees 0 through 6, including 0 and 6. Set 5 folds in cv splitting. (5 pts)\n",
    "- What is the best k? (2 pts)\n",
    "- For the best model, report its R² (coefficient of determination) regression score on the training and test data. (4 pts)"
   ]
  },
  {
   "cell_type": "code",
   "execution_count": null,
   "metadata": {
    "trusted": true
   },
   "outputs": [],
   "source": [
    "# WRITE AND TEST YOUR CODE HERE\n",
    "# Do NOT forget to submit via eLearning\n",
    "\n",
    "\n",
    "\n",
    "\n",
    "\n",
    "\n",
    "\n"
   ]
  },
  {
   "cell_type": "markdown",
   "metadata": {},
   "source": [
    "## Q29. Pipeline (14 pts)\n",
    "\n",
    "Create a pipeline to perform the following:\n",
    "\n",
    "- Define polynomial features with degrees = 2. (3 pts)\n",
    "- Standardize the polynomial feature set using StandardScaler. (3 pts)\n",
    "- Create a Linear Regression model with the scaled features on the training data X_train. (3 pts)\n",
    "- Report its R² (coefficient of determination) regression score on the training and test data. (3 pts)\n",
    "- Predict the quality of the wine based on the new sample in **Q26b**. (2 pts)"
   ]
  },
  {
   "cell_type": "code",
   "execution_count": null,
   "metadata": {
    "trusted": true
   },
   "outputs": [],
   "source": [
    "# WRITE AND TEST YOUR CODE HERE\n",
    "# Do NOT forget to submit via eLearning\n",
    "\n",
    "\n",
    "\n",
    "\n",
    "\n",
    "\n",
    "\n"
   ]
  }
 ],
 "metadata": {
  "kernelspec": {
   "display_name": "Python 3 (ipykernel)",
   "language": "python",
   "name": "python3"
  },
  "language_info": {
   "codemirror_mode": {
    "name": "ipython",
    "version": 3
   },
   "file_extension": ".py",
   "mimetype": "text/x-python",
   "name": "python",
   "nbconvert_exporter": "python",
   "pygments_lexer": "ipython3",
   "version": "3.10.16"
  }
 },
 "nbformat": 4,
 "nbformat_minor": 4
}
