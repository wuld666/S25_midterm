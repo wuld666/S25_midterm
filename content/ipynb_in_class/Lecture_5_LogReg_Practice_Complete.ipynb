{
 "cells": [
  {
   "cell_type": "markdown",
   "metadata": {},
   "source": [
    "# Lecture 5  Classification Model - Logistic Regression"
   ]
  },
  {
   "cell_type": "code",
   "execution_count": 1,
   "metadata": {},
   "outputs": [],
   "source": [
    "# import necessary libraries and specify that graphs should be plotted inline\n",
    "import numpy as np\n",
    "import pandas as pd\n",
    "import sklearn\n",
    "import matplotlib.pyplot as plt\n",
    "%matplotlib inline \n",
    "import warnings\n",
    "warnings.filterwarnings('ignore')"
   ]
  },
  {
   "cell_type": "markdown",
   "metadata": {},
   "source": [
    "## 1. Logistic Regression\n",
    "\n",
    "Logistic regression is realized through \n",
    "\n",
    "**<center>sklearn.linear_model.LogisticRegression</center>**\n",
    "\n",
    "- By default, **L2 regularization is applied**. Use `penalty = 'none'` if you do not want to include regularization.\n",
    "- You can still use **.coef_** and **.intercept_** to get `coefficient` estimates.\n",
    "- By default, **.score** reports the accuracy\n",
    "- A new attribute is **.predict_proba**. It gives the predicted probability of y=1 (instead of the class)."
   ]
  },
  {
   "cell_type": "markdown",
   "metadata": {},
   "source": [
    "### Setting and Data\n",
    "We will use a standard dataset that predicts breast cancer for today's practice. The breast_cancer dataset comes with Scikit-Learn package. This is a binary classification dataset (i.e., Y=1 if malignant, Y=0 if benign). We can use the same syntax to learn about the breast_cancer dataset (e.g., variables, observations, etc.) \n",
    "\n",
    "It's description can also be found at: <center>https://scikit-learn.org/stable/modules/generated/sklearn.datasets.load_breast_cancer.html#sklearn.datasets.load_breast_cancer</center>\n",
    "\n",
    "\n",
    "\n",
    "**Practice:** \n",
    "- Explore the cancer dataset, how many observations & variables are there?\n",
    "- Data Splitting - 30% to test and 70% to train.\n",
    "- Predict y with **Logistic Regression** and **L2 regularization**. Report the `coefficients` (including intercept).\n",
    "- Report the accuracy of training and test set.\n",
    "    - Hint: you can use `.score(x, y)` method to get accuracy. As accuracy is default measure for binary outcomes.\n",
    "- Suppose another classifier: it classifies all records to class zero. What would be the accuracy? "
   ]
  },
  {
   "cell_type": "code",
   "execution_count": 2,
   "metadata": {},
   "outputs": [
    {
     "name": "stdout",
     "output_type": "stream",
     "text": [
      "dict_keys(['data', 'target', 'frame', 'target_names', 'DESCR', 'feature_names', 'filename', 'data_module'])\n",
      "(569, 30)\n"
     ]
    }
   ],
   "source": [
    "# Exploring dataset from sklearn\n",
    "from sklearn.datasets import load_breast_cancer\n",
    "cancer = load_breast_cancer()\n",
    "\n",
    "print(cancer.keys()) # Check elements in cancer dataset: data is X, target is y.\n",
    "print(cancer.data.shape)\n",
    "\n",
    "# Uncomment the following line for a detailed data description \n",
    "# print(cancer.DESCR)"
   ]
  },
  {
   "cell_type": "code",
   "execution_count": 3,
   "metadata": {},
   "outputs": [
    {
     "data": {
      "text/plain": [
       "array([0, 0, 0, 0, 0, 0, 0, 0, 0, 0, 0, 0, 0, 0, 0, 0, 0, 0, 0, 1, 1, 1,\n",
       "       0, 0, 0, 0, 0, 0, 0, 0, 0, 0, 0, 0, 0, 0, 0, 1, 0, 0, 0, 0, 0, 0,\n",
       "       0, 0, 1, 0, 1, 1, 1, 1, 1, 0, 0, 1, 0, 0, 1, 1, 1, 1, 0, 1, 0, 0,\n",
       "       1, 1, 1, 1, 0, 1, 0, 0, 1, 0, 1, 0, 0, 1, 1, 1, 0, 0, 1, 0, 0, 0,\n",
       "       1, 1, 1, 0, 1, 1, 0, 0, 1, 1, 1, 0, 0, 1, 1, 1, 1, 0, 1, 1, 0, 1,\n",
       "       1, 1, 1, 1, 1, 1, 1, 0, 0, 0, 1, 0, 0, 1, 1, 1, 0, 0, 1, 0, 1, 0,\n",
       "       0, 1, 0, 0, 1, 1, 0, 1, 1, 0, 1, 1, 1, 1, 0, 1, 1, 1, 1, 1, 1, 1,\n",
       "       1, 1, 0, 1, 1, 1, 1, 0, 0, 1, 0, 1, 1, 0, 0, 1, 1, 0, 0, 1, 1, 1,\n",
       "       1, 0, 1, 1, 0, 0, 0, 1, 0, 1, 0, 1, 1, 1, 0, 1, 1, 0, 0, 1, 0, 0,\n",
       "       0, 0, 1, 0, 0, 0, 1, 0, 1, 0, 1, 1, 0, 1, 0, 0, 0, 0, 1, 1, 0, 0,\n",
       "       1, 1, 1, 0, 1, 1, 1, 1, 1, 0, 0, 1, 1, 0, 1, 1, 0, 0, 1, 0, 1, 1,\n",
       "       1, 1, 0, 1, 1, 1, 1, 1, 0, 1, 0, 0, 0, 0, 0, 0, 0, 0, 0, 0, 0, 0,\n",
       "       0, 0, 1, 1, 1, 1, 1, 1, 0, 1, 0, 1, 1, 0, 1, 1, 0, 1, 0, 0, 1, 1,\n",
       "       1, 1, 1, 1, 1, 1, 1, 1, 1, 1, 1, 0, 1, 1, 0, 1, 0, 1, 1, 1, 1, 1,\n",
       "       1, 1, 1, 1, 1, 1, 1, 1, 1, 0, 1, 1, 1, 0, 1, 0, 1, 1, 1, 1, 0, 0,\n",
       "       0, 1, 1, 1, 1, 0, 1, 0, 1, 0, 1, 1, 1, 0, 1, 1, 1, 1, 1, 1, 1, 0,\n",
       "       0, 0, 1, 1, 1, 1, 1, 1, 1, 1, 1, 1, 1, 0, 0, 1, 0, 0, 0, 1, 0, 0,\n",
       "       1, 1, 1, 1, 1, 0, 1, 1, 1, 1, 1, 0, 1, 1, 1, 0, 1, 1, 0, 0, 1, 1,\n",
       "       1, 1, 1, 1, 0, 1, 1, 1, 1, 1, 1, 1, 0, 1, 1, 1, 1, 1, 0, 1, 1, 0,\n",
       "       1, 1, 1, 1, 1, 1, 1, 1, 1, 1, 1, 1, 0, 1, 0, 0, 1, 0, 1, 1, 1, 1,\n",
       "       1, 0, 1, 1, 0, 1, 0, 1, 1, 0, 1, 0, 1, 1, 1, 1, 1, 1, 1, 1, 0, 0,\n",
       "       1, 1, 1, 1, 1, 1, 0, 1, 1, 1, 1, 1, 1, 1, 1, 1, 1, 0, 1, 1, 1, 1,\n",
       "       1, 1, 1, 0, 1, 0, 1, 1, 0, 1, 1, 1, 1, 1, 0, 0, 1, 0, 1, 0, 1, 1,\n",
       "       1, 1, 1, 0, 1, 1, 0, 1, 0, 1, 0, 0, 1, 1, 1, 0, 1, 1, 1, 1, 1, 1,\n",
       "       1, 1, 1, 1, 1, 0, 1, 0, 0, 1, 1, 1, 1, 1, 1, 1, 1, 1, 1, 1, 1, 1,\n",
       "       1, 1, 1, 1, 1, 1, 1, 1, 1, 1, 1, 1, 0, 0, 0, 0, 0, 0, 1])"
      ]
     },
     "execution_count": 3,
     "metadata": {},
     "output_type": "execute_result"
    }
   ],
   "source": [
    "cancer.target"
   ]
  },
  {
   "cell_type": "code",
   "execution_count": 4,
   "metadata": {},
   "outputs": [
    {
     "name": "stdout",
     "output_type": "stream",
     "text": [
      "0.6256281407035176 0.6274165202108963\n"
     ]
    }
   ],
   "source": [
    "# Data Splitting, check sample\n",
    "from sklearn.model_selection import train_test_split\n",
    "X = cancer.data\n",
    "y = cancer.target\n",
    "\n",
    "X_train, X_test, y_train, y_test = train_test_split(X, y, test_size = 0.3, random_state=42)\n",
    "\n",
    "# Compare the data distributions\n",
    "print(np.mean(y_train), np.mean(y))"
   ]
  },
  {
   "cell_type": "code",
   "execution_count": 5,
   "metadata": {},
   "outputs": [
    {
     "name": "stdout",
     "output_type": "stream",
     "text": [
      "coef is:  [[ 1.02549212  0.48894523  0.2439187  -0.01782138 -0.03741132 -0.18310481\n",
      "  -0.25786636 -0.11099101 -0.05708615 -0.01144195  0.03355855  0.45511774\n",
      "   0.06767599 -0.1069982  -0.00352657 -0.03858942 -0.05297366 -0.01414549\n",
      "  -0.01383915 -0.00358004  1.04489135 -0.54759758 -0.23398013 -0.01168834\n",
      "  -0.06730444 -0.55440576 -0.6902348  -0.20458857 -0.18609487 -0.05111569]]\n",
      "Accuracy is: 0.9707602339181286\n",
      "Manully calculate the accuracy:  0.9707602339181286\n"
     ]
    }
   ],
   "source": [
    "from sklearn.linear_model import LogisticRegression\n",
    "# Run the Logistic Regression Model: \n",
    "## (a) Define function, train the model. Report coefficient.\n",
    "\n",
    "logreg = LogisticRegression()\n",
    "logreg.fit(X_train, y_train)\n",
    "print(\"coef is: \", logreg.coef_)\n",
    "\n",
    "\n",
    "## (b) Accuracy\n",
    "print(\"Accuracy is:\", logreg.score(X_test, y_test) )\n",
    "\n",
    "# Get it manually\n",
    "\n",
    "# do prediction\n",
    "y_pred = logreg.predict(X_test)\n",
    "\n",
    "print(\"Manully calculate the accuracy: \", np.sum(y_test == y_pred)/y_test.shape[0]) "
   ]
  },
  {
   "cell_type": "code",
   "execution_count": 6,
   "metadata": {},
   "outputs": [
    {
     "data": {
      "text/plain": [
       "0.3684210526315789"
      ]
     },
     "execution_count": 6,
     "metadata": {},
     "output_type": "execute_result"
    }
   ],
   "source": [
    "# Suppose another classifier: it classifies all records to class zero. What would be the accuracy?\n",
    "\n",
    "np.sum(y_test == 0)/y_test.shape[0]\n",
    "\n"
   ]
  },
  {
   "cell_type": "markdown",
   "metadata": {},
   "source": [
    "## 2. Model Evaluation\n",
    "We have several ways to evaluate a classification model. \n",
    "\n",
    "### 2.1 Confusion Matrix\n",
    "It is often good start from **Confusion Matrix**, which provides the source (e.g., TP, TN, FP, FN) to calculate other measures. Checking the patterns of confusion matrix can also help understand which type of error is more likely to occur (FP or FN) and the potential reasons (classifier's issue or data issue).\n",
    "\n",
    "<img src=\"https://miro.medium.com/max/1400/1*PPgItHcPSaskyjLMWFC-Kw.png\" width=600 />\n",
    "\n",
    "To generate confusion matrix, we use syntax:\n",
    "**<center>sklearn.metrics.confusion_matrix(Actual_y, Predicted_y)</center>**\n",
    "\n",
    "- The rows represents actual class, and columns represent predicted class. \n",
    "- For the upper-left corner, `predicted = actual = 0`\n",
    "\n",
    "**Practice:**\n",
    "- Create a confusion matrix for the logistic regression model, report the TP, FP, TN, FN."
   ]
  },
  {
   "cell_type": "code",
   "execution_count": 7,
   "metadata": {},
   "outputs": [
    {
     "data": {
      "text/plain": [
       "array([[ 59,   4],\n",
       "       [  1, 107]], dtype=int64)"
      ]
     },
     "execution_count": 7,
     "metadata": {},
     "output_type": "execute_result"
    }
   ],
   "source": [
    "from sklearn.metrics import confusion_matrix\n",
    "my_matrix = confusion_matrix(y_test, y_pred)\n",
    "my_matrix"
   ]
  },
  {
   "cell_type": "code",
   "execution_count": 8,
   "metadata": {},
   "outputs": [
    {
     "name": "stdout",
     "output_type": "stream",
     "text": [
      "TP is: 107\n",
      "TN is: 59\n",
      "FP is: 4\n",
      "FN is: 1\n"
     ]
    }
   ],
   "source": [
    "print(\"TP is:\", my_matrix[1,1])\n",
    "print(\"TN is:\", my_matrix[0,0])\n",
    "print(\"FP is:\", my_matrix[0,1])\n",
    "print(\"FN is:\", my_matrix[1,0])"
   ]
  },
  {
   "cell_type": "markdown",
   "metadata": {},
   "source": [
    "### Additional Performance Measures\n",
    "We can obtain different performance measures, **Accuracy, Precision, Recall, F1 score**, using Scikit-Learn. The syntax is very similar to confusion matrix. Specifically, we can simply replace \"confusion_matrix\" by [accuracy_score, precision_score, recall_score, and f1_score]. Thus:\n",
    "\n",
    "<center>sklearn.metrics.accuracy_score(Actual_y, Predicted_y)</center>\n",
    "<center>sklearn.metrics.precision_score(Actual_y, Predicted_y)</center>\n",
    "<center>sklearn.metrics.recall_score(Actual_y, Predicted_y)</center>\n",
    "<center>sklearn.metrics.f1_score(Actual_y, Predicted_y)</center>\n",
    "\n",
    "**Practice:**\n",
    "\n",
    "- Given the logistic regression trained in the previous section, calculate and print the precision, recall, accuracy, and f1_score"
   ]
  },
  {
   "cell_type": "code",
   "execution_count": 9,
   "metadata": {},
   "outputs": [
    {
     "name": "stdout",
     "output_type": "stream",
     "text": [
      "Precision score: 0.963963963963964\n",
      "Recall score: 0.9907407407407407\n",
      "Accuracy score: 0.9707602339181286\n",
      "F1 score: 0.9771689497716894\n"
     ]
    }
   ],
   "source": [
    "from sklearn.metrics import precision_score, recall_score, accuracy_score, f1_score\n",
    "\n",
    "print('Precision score:', precision_score(y_test, y_pred) )\n",
    "print('Recall score:', recall_score(y_test, y_pred))\n",
    "print('Accuracy score:', accuracy_score(y_test, y_pred))\n",
    "print('F1 score:', f1_score(y_test, y_pred))"
   ]
  },
  {
   "cell_type": "markdown",
   "metadata": {},
   "source": [
    "### Visualization\n",
    "We consider two methods for visualization: Precision-Recall Curve, and ROC Curve. Recall that to draw the figure, we need to calculate the probability of Y=1 for each record. Thus, we need to first obtain the predicted probability of Y=1 using the .predict_proba method:\n",
    "\n",
    "**<center>MODEL_NAME.predict_proba(INPUT_DATA)[:,1]</center>**\n",
    "- `[:,1]` takes the second column of the output (the first column is P(Y=0))\n",
    "- The list of probabilities can be used to draw figures.\n",
    "\n",
    "#### For Precision-Recall Curve: \n",
    " - Use **sklearn.metrics.precision_recall_curve(Actual_Y, Probability)** \n",
    " - Output: a list of necessary measures (following this order): [precision, recall, threshold]\n",
    " - Plot the figure (e.g., plt.plot()).\n",
    " \n",
    "#### For ROC Curve: \n",
    " - Use **sklearn.metrics.roc_curve(Actual_Y, Probability)** \n",
    " - Output: a list of necessary measures (following this order): [fpr (1-specificity), tpr (recall), threshold]\n",
    " - Plot the figure (e.g., plt.plot()).\n",
    " - We can also get AUC score using     **sklearn.metrics.roc_auc_score(Actual_Y, Probability)**\n",
    "\n",
    "**Practice:**\n",
    "\n",
    "1. Plot the Precision-Recall Curve\n",
    "2. Plot the ROC Curve\n",
    "3. Obtain the AUC score"
   ]
  },
  {
   "cell_type": "code",
   "execution_count": 10,
   "metadata": {},
   "outputs": [
    {
     "data": {
      "text/plain": [
       "Text(0.5, 1.0, 'precision-Recall Curve')"
      ]
     },
     "execution_count": 10,
     "metadata": {},
     "output_type": "execute_result"
    },
    {
     "data": {
      "image/png": "[encoded data removed]",
      "text/plain": [
       "<Figure size 432x288 with 1 Axes>"
      ]
     },
     "metadata": {
      "needs_background": "light"
     },
     "output_type": "display_data"
    }
   ],
   "source": [
    "# Practice 1: Here we plot the Precision-Recall Curve\n",
    "\n",
    "from sklearn.metrics import precision_recall_curve\n",
    "\n",
    "# S1. Get probability\n",
    "log_reg_prob = logreg.predict_proba(X_test)[:, 1]\n",
    "\n",
    "# S2. Collect Necessary Measures\n",
    "precision, recall, threshold = precision_recall_curve(y_test, log_reg_prob)\n",
    "\n",
    "# S3. Plot Figure\n",
    "plt.plot(recall, precision)\n",
    "plt.xlabel(\"recall\")\n",
    "plt.ylabel(\"precision\")\n",
    "plt.title(\"precision-Recall Curve\")"
   ]
  },
  {
   "cell_type": "code",
   "execution_count": 11,
   "metadata": {},
   "outputs": [
    {
     "name": "stdout",
     "output_type": "stream",
     "text": [
      "AUC for logistic regression: 0.9970605526161082\n"
     ]
    }
   ],
   "source": [
    "from sklearn.metrics import roc_auc_score\n",
    "\n",
    "# we have obtained the predicted probability in the previous step: y_pred_proba\n",
    "\n",
    "\n",
    "print(\"AUC for logistic regression:\",  roc_auc_score(y_test, log_reg_prob) )"
   ]
  },
  {
   "cell_type": "code",
   "execution_count": 12,
   "metadata": {},
   "outputs": [
    {
     "data": {
      "text/plain": [
       "Text(0.5, 1.0, 'ROC')"
      ]
     },
     "execution_count": 12,
     "metadata": {},
     "output_type": "execute_result"
    },
    {
     "data": {
      "image/png": "[encoded data removed]",
      "text/plain": [
       "<Figure size 432x288 with 1 Axes>"
      ]
     },
     "metadata": {
      "needs_background": "light"
     },
     "output_type": "display_data"
    }
   ],
   "source": [
    "# Practice 2: Similar to Precision-Recall Curve\n",
    "\n",
    "from sklearn.metrics import roc_curve\n",
    "\n",
    "# Predicted Probability: y_pred_proba\n",
    "# Get Measures\n",
    "\n",
    "# Generate Figure\n",
    "fpr, tpr, threshold =  roc_curve(y_test, log_reg_prob)\n",
    "\n",
    "plt.plot(fpr, tpr)\n",
    "plt.xlabel(\"fpr\")\n",
    "plt.ylabel(\"tpr\")\n",
    "plt.title(\"ROC\")\n"
   ]
  },
  {
   "cell_type": "code",
   "execution_count": null,
   "metadata": {},
   "outputs": [],
   "source": []
  }
 ],
 "metadata": {
  "kernelspec": {
   "display_name": "Python 3 (ipykernel)",
   "language": "python",
   "name": "python3"
  },
  "language_info": {
   "codemirror_mode": {
    "name": "ipython",
    "version": 3
   },
   "file_extension": ".py",
   "mimetype": "text/x-python",
   "name": "python",
   "nbconvert_exporter": "python",
   "pygments_lexer": "ipython3",
   "version": "3.9.12"
  }
 },
 "nbformat": 4,
 "nbformat_minor": 4
}
