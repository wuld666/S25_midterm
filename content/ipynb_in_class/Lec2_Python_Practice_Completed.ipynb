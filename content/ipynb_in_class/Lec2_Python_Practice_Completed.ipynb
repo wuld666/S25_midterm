{
 "cells": [
  {
   "cell_type": "markdown",
   "metadata": {},
   "source": [
    "### Useful Notes\n",
    "1. Adding cell below: \"ALT + Enter\" or \"Esc + b\"\n",
    "2. Adding cell above: \"Esc + a\"\n",
    "3. Running cell: \"Shift + Enter\"\n",
    "4. To switch between windows (e.g., PPT and Jupyter): First open the two windows consecutively, then switch between these two windows using \"Alt + Tab\"\n",
    "5. Use \"#\" to include comments.\n",
    "6. Do not indent (e.g., include spaces at the beginning) when writing codes (except for comments). Indentation is used to structure your code (e.g., functions).\n",
    "7. Check typos."
   ]
  },
  {
   "cell_type": "markdown",
   "metadata": {},
   "source": [
    "# Section 0: Package Check and Importing\n",
    "An advantage to use Anaconda is that, it has many of the useful packages (e.g., numpy, pandas, matplotlib, scikit-learn,...) installed for us. In below, we try a couple of syntax to see if these packages have been successfully installed. "
   ]
  },
  {
   "cell_type": "code",
   "execution_count": 1,
   "metadata": {},
   "outputs": [],
   "source": [
    "# !pip install pandas"
   ]
  },
  {
   "cell_type": "code",
   "execution_count": 2,
   "metadata": {},
   "outputs": [],
   "source": [
    "import numpy, pandas"
   ]
  },
  {
   "cell_type": "markdown",
   "metadata": {},
   "source": [
    "In the cells above, we imported two packages/libraries: numpy and pandas. Be aware that we always need to import the packages to apply the corresponding functions/methods. There are two types of imports: general import and selective import.\n",
    "\n",
    "### Section 0.1: General Import\n",
    "General imports make all functionality from the package available to you. Just like what we did above, we use **import x** to import package x. More frequently, we use **import xyz as x** to import package xyz, and use abbreviation \"x\" to refer to \"xyz\"."
   ]
  },
  {
   "cell_type": "code",
   "execution_count": 3,
   "metadata": {},
   "outputs": [],
   "source": [
    "import numpy as np\n",
    "import pandas as pd"
   ]
  },
  {
   "cell_type": "markdown",
   "metadata": {},
   "source": [
    "### Section 0.2: Selective Import\n",
    "Instead of loading everything in a package, we can also make the import more selective. For example, we may use only a specific part of a package (e.g., a specific function, a piece of data, a variable, ...) This case, we use: **from A import B**. In here, B is a component of A."
   ]
  },
  {
   "cell_type": "code",
   "execution_count": 4,
   "metadata": {},
   "outputs": [],
   "source": [
    "from sklearn.datasets import load_iris\n",
    "from matplotlib import pyplot as plt"
   ]
  },
  {
   "cell_type": "markdown",
   "metadata": {},
   "source": [
    "# Section 1: Basic Data Type, Assignment, and Operators"
   ]
  },
  {
   "cell_type": "markdown",
   "metadata": {},
   "source": [
    "## Section 1.1 Basic data types in Python\n",
    " - **int, or integer:** a number without a fractional part. e.g.: 1,2, 100, ...\n",
    " - **float, or floating point:** a number that has both an integer and a fractional part, separated by a point. e.g.: 3.14, 5.7, ...\n",
    " - **str, or string:** a type to represent text. Use single or double quotes to build a string. e.g.: 'Texas', 'Lucy', ...\n",
    " - **bool, or boolean:** a type to represent logical values. Can ONLY be True or False. *Note: No quotation allowed. No abbreviations allowed. Case sensitive.*\n",
    "\n",
    "We can use the built-in function **type(x)** to obtain the data type for x, if x is a scalar. \n",
    "\n"
   ]
  },
  {
   "cell_type": "code",
   "execution_count": 6,
   "metadata": {},
   "outputs": [
    {
     "data": {
      "text/plain": [
       "(int, float, str, bool)"
      ]
     },
     "execution_count": 6,
     "metadata": {},
     "output_type": "execute_result"
    }
   ],
   "source": [
    "type(3),type(3.14), type('\"Hello World!\"'), type(True)"
   ]
  },
  {
   "cell_type": "markdown",
   "metadata": {},
   "source": [
    "**Practice:** \n",
    "\n",
    "Without running the syntax, answer the questions.\n",
    "- What is the output of **type('True')** and **type ('3')**?\n",
    "- What is the output of **type(3.0)**? \n",
    "- What is the output of **type(true)**?\n"
   ]
  },
  {
   "cell_type": "code",
   "execution_count": 7,
   "metadata": {},
   "outputs": [
    {
     "ename": "NameError",
     "evalue": "name 'true' is not defined",
     "output_type": "error",
     "traceback": [
      "\u001b[1;31m---------------------------------------------------------------------------\u001b[0m",
      "\u001b[1;31mNameError\u001b[0m                                 Traceback (most recent call last)",
      "Input \u001b[1;32mIn [7]\u001b[0m, in \u001b[0;36m<cell line: 1>\u001b[1;34m()\u001b[0m\n\u001b[1;32m----> 1\u001b[0m \u001b[38;5;28mtype\u001b[39m(\u001b[38;5;124m'\u001b[39m\u001b[38;5;124mTrue\u001b[39m\u001b[38;5;124m'\u001b[39m), \u001b[38;5;28mtype\u001b[39m (\u001b[38;5;124m'\u001b[39m\u001b[38;5;124m3\u001b[39m\u001b[38;5;124m'\u001b[39m), \u001b[38;5;28mtype\u001b[39m(\u001b[38;5;241m3.0\u001b[39m), \u001b[38;5;28mtype\u001b[39m(\u001b[43mtrue\u001b[49m)\n",
      "\u001b[1;31mNameError\u001b[0m: name 'true' is not defined"
     ]
    }
   ],
   "source": [
    "type('True'), type ('3'), type(3.0), type(true)"
   ]
  },
  {
   "cell_type": "markdown",
   "metadata": {},
   "source": [
    "## Section 1.2 Assignment\n",
    "Python variables do not need explicit declaration to reserve memory space. The declaration happens automatically when you assign a value to a variable. Use equal sign (=) to assign values to variables. You can assign a number or a string. Use single or double quotes (i.e., ' ', or \" \") for strings."
   ]
  },
  {
   "cell_type": "code",
   "execution_count": 9,
   "metadata": {},
   "outputs": [
    {
     "data": {
      "text/plain": [
       "int"
      ]
     },
     "execution_count": 9,
     "metadata": {},
     "output_type": "execute_result"
    }
   ],
   "source": [
    "# Assign an integer:\n",
    "a = 5\n",
    "type(a)"
   ]
  },
  {
   "cell_type": "code",
   "execution_count": 10,
   "metadata": {},
   "outputs": [
    {
     "data": {
      "text/plain": [
       "float"
      ]
     },
     "execution_count": 10,
     "metadata": {},
     "output_type": "execute_result"
    }
   ],
   "source": [
    "# Assign a float:\n",
    "b = 5.9\n",
    "type(b)"
   ]
  },
  {
   "cell_type": "code",
   "execution_count": 11,
   "metadata": {},
   "outputs": [
    {
     "data": {
      "text/plain": [
       "5"
      ]
     },
     "execution_count": 11,
     "metadata": {},
     "output_type": "execute_result"
    }
   ],
   "source": [
    "int(b)"
   ]
  },
  {
   "cell_type": "code",
   "execution_count": 12,
   "metadata": {},
   "outputs": [
    {
     "data": {
      "text/plain": [
       "str"
      ]
     },
     "execution_count": 12,
     "metadata": {},
     "output_type": "execute_result"
    }
   ],
   "source": [
    "# Assign a string (use '' or \"\")\n",
    "name = 'John'\n",
    "type(name)"
   ]
  },
  {
   "cell_type": "markdown",
   "metadata": {},
   "source": [
    "### Multiple Assignments: \n",
    "- You can assign one single value to multiple variables simultaneously. \n",
    "- You can also assign multiple different values to different variables simultaneously (more formally, \"unpacking\"). For multiple-multiple assignment, make sure the dimensions are consistent."
   ]
  },
  {
   "cell_type": "code",
   "execution_count": 13,
   "metadata": {},
   "outputs": [
    {
     "data": {
      "text/plain": [
       "(1, 1, 1)"
      ]
     },
     "execution_count": 13,
     "metadata": {},
     "output_type": "execute_result"
    }
   ],
   "source": [
    "## Assigning one (same) value to multiple variables.\n",
    "x = y = z = 1 \n",
    "x,y,z "
   ]
  },
  {
   "cell_type": "code",
   "execution_count": 14,
   "metadata": {},
   "outputs": [
    {
     "data": {
      "text/plain": [
       "(7, 4, 'Apple')"
      ]
     },
     "execution_count": 14,
     "metadata": {},
     "output_type": "execute_result"
    }
   ],
   "source": [
    "## Assinging multiple values to multiple variables simultaneously.\n",
    "x, y, z = 7, 4, \"Apple\" \n",
    "x,y,  z"
   ]
  },
  {
   "cell_type": "markdown",
   "metadata": {},
   "source": [
    "## Section 1.3 Operators on Numbers\n",
    "We can apply operators to numbers (i.e., int and float) for naive calculation. Some operators that may be unfamiliar to you are:\n",
    "- \"**\": Exponential. (Two multiplication marks)\n",
    "- \"/\": Division. After devision, result is float.\n",
    "- \"//\": Division. After devision, returns only the integer part."
   ]
  },
  {
   "cell_type": "code",
   "execution_count": 15,
   "metadata": {},
   "outputs": [],
   "source": [
    "radius = 2.2"
   ]
  },
  {
   "cell_type": "code",
   "execution_count": 16,
   "metadata": {},
   "outputs": [],
   "source": [
    "## In below, do some naive calculations\n",
    "pi = 3.14\n",
    "area = pi*(radius**2)"
   ]
  },
  {
   "cell_type": "code",
   "execution_count": 17,
   "metadata": {
    "scrolled": true
   },
   "outputs": [
    {
     "name": "stdout",
     "output_type": "stream",
     "text": [
      "15.197600000000003\n"
     ]
    }
   ],
   "source": [
    "## Print the result.  - Use print() function\n",
    "print(area)"
   ]
  },
  {
   "cell_type": "code",
   "execution_count": 18,
   "metadata": {},
   "outputs": [
    {
     "name": "stdout",
     "output_type": "stream",
     "text": [
      "5\n",
      "5.9\n"
     ]
    }
   ],
   "source": [
    "print(a)\n",
    "print(b)"
   ]
  },
  {
   "cell_type": "code",
   "execution_count": 19,
   "metadata": {},
   "outputs": [],
   "source": [
    "radius = radius + 1"
   ]
  },
  {
   "cell_type": "code",
   "execution_count": 20,
   "metadata": {},
   "outputs": [
    {
     "data": {
      "text/plain": [
       "(1.5, 1)"
      ]
     },
     "execution_count": 20,
     "metadata": {},
     "output_type": "execute_result"
    }
   ],
   "source": [
    "3/2, 3//2"
   ]
  },
  {
   "cell_type": "markdown",
   "metadata": {},
   "source": [
    "# Section 2: Lists and Numpy Arrays\n",
    "\n",
    "A list contains items separated by commas and enclosed within square brackets (**[ ]**). In a list, you can store different data types (e.g., string, integer, bool, ...). "
   ]
  },
  {
   "cell_type": "code",
   "execution_count": 21,
   "metadata": {},
   "outputs": [],
   "source": [
    "My_list = [3, \"Texas\", True]"
   ]
  },
  {
   "cell_type": "markdown",
   "metadata": {},
   "source": [
    "### Section 2.1 List Operators\n",
    "- The plus (+) sign is the list concatenation operator (i.e., combine two lists). \n",
    "- The asterisk (*) is the repetition operator."
   ]
  },
  {
   "cell_type": "code",
   "execution_count": 22,
   "metadata": {},
   "outputs": [],
   "source": [
    "Add_list = [123]"
   ]
  },
  {
   "cell_type": "code",
   "execution_count": 23,
   "metadata": {},
   "outputs": [
    {
     "data": {
      "text/plain": [
       "[3, 'Texas', True, 123]"
      ]
     },
     "execution_count": 23,
     "metadata": {},
     "output_type": "execute_result"
    }
   ],
   "source": [
    "## Concatenating\n",
    "My_list + Add_list"
   ]
  },
  {
   "cell_type": "code",
   "execution_count": 24,
   "metadata": {},
   "outputs": [
    {
     "data": {
      "text/plain": [
       "[3, 'Texas', True, 3, 'Texas', True, 3, 'Texas', True, 123]"
      ]
     },
     "execution_count": 24,
     "metadata": {},
     "output_type": "execute_result"
    }
   ],
   "source": [
    "## Repetition\n",
    "My_list * 3 + Add_list"
   ]
  },
  {
   "cell_type": "markdown",
   "metadata": {},
   "source": [
    "### Section 2.1 List Indexing and Slicing\n",
    "The values stored in a list can be accessed using the slice operator (**[ ]** and **[:]**). \n",
    "\n",
    "#### Indexing:\n",
    "- The length of a list is the number of elements. It can be obtained using built-in function **len(x)**, where x is the list of interest.\n",
    "- The indices start at **0** in the beginning of the list and work their way to end. The last element can also be obtaned through index len(x) - 1.\n",
    "- We can also use negative indices, which refers to the position relative to the end. The last element has index: **-1**.\n",
    "\n",
    "\n",
    "#### Slicing: Use \":\"\n",
    "- **i:j** stands for: From the ith element (include i) to the jth element (not include j)\n",
    "- If i is not specified, then by default, start from the first element \n",
    "- If j is not specified, then by default, end at the last element (inclusive)\n"
   ]
  },
  {
   "cell_type": "code",
   "execution_count": 25,
   "metadata": {},
   "outputs": [
    {
     "name": "stdout",
     "output_type": "stream",
     "text": [
      "[3, 'Texas', True]\n",
      "3\n",
      "True True\n"
     ]
    }
   ],
   "source": [
    "# Get the 1st element, last element, 3rd element from My_list.\n",
    "print(My_list)\n",
    "print(My_list[0])   # first\n",
    "\n",
    "print(My_list[2], My_list[-1])  # last\n"
   ]
  },
  {
   "cell_type": "code",
   "execution_count": 26,
   "metadata": {},
   "outputs": [
    {
     "name": "stdout",
     "output_type": "stream",
     "text": [
      "['Texas', True]\n",
      "['Texas', True]\n"
     ]
    }
   ],
   "source": [
    "# Obtain the 2nd to last element of My_list\n",
    "print(My_list[1: 3])\n",
    "\n",
    "# alternative \n",
    "print(My_list[1:])"
   ]
  },
  {
   "cell_type": "markdown",
   "metadata": {},
   "source": [
    "# Section 3. Numpy\n",
    "NumPy is the fundamental package for scientific computing with Python. It is great for vector arithmetic. "
   ]
  },
  {
   "cell_type": "code",
   "execution_count": 27,
   "metadata": {},
   "outputs": [
    {
     "name": "stdout",
     "output_type": "stream",
     "text": [
      "[2, 3] [2 3]\n"
     ]
    }
   ],
   "source": [
    "# Python List and 1D Numpy Array are similar in terms of indexing and slicing\n",
    "import numpy as np\n",
    "x = [1,2,3,4,5] # x is a list\n",
    "y = np.array(x) # y is a numpy array\n",
    "print(x[1:3], y[1:3])"
   ]
  },
  {
   "cell_type": "markdown",
   "metadata": {},
   "source": [
    "If you compare its functionality with regular Python\n",
    "lists, however, some things have changed.\n",
    "- Numpy arrays cannot contain elements with different types. If you try to build such an\n",
    "array, some of the elements' types are changed to end up with a homogeneous list.\n",
    "- The typical arithmetic operators, such as + and * have a different meaning for regular\n",
    "Python lists and numpy arrays.\n",
    "- You can use logic values (True, False) for numpy."
   ]
  },
  {
   "cell_type": "code",
   "execution_count": 28,
   "metadata": {},
   "outputs": [
    {
     "name": "stdout",
     "output_type": "stream",
     "text": [
      "['1' '2' 'a' 'True']\n"
     ]
    }
   ],
   "source": [
    "# Example: Numpy array accepts only one type.\n",
    "x = [1,2,'a', True]\n",
    "y = np.array(x)\n",
    "print(y) "
   ]
  },
  {
   "cell_type": "code",
   "execution_count": 29,
   "metadata": {},
   "outputs": [
    {
     "data": {
      "text/plain": [
       "array([1.        , 1.41421356, 1.73205081, 2.        , 2.23606798])"
      ]
     },
     "execution_count": 29,
     "metadata": {},
     "output_type": "execute_result"
    }
   ],
   "source": [
    "# Example: Arichmetic operators\n",
    "x = np.array([1,2,3,4,5])\n",
    "y = [1,2,3,4,5]\n",
    "\n",
    "\n",
    "x ** 0.5\n",
    "# y ** 3   TypeError: unsupported operand type(s) for ** or pow(): 'list' and 'int'"
   ]
  },
  {
   "cell_type": "code",
   "execution_count": 30,
   "metadata": {},
   "outputs": [
    {
     "data": {
      "text/plain": [
       "(array([ True,  True, False, False,  True]),\n",
       " array([1, 2, 3, 4, 5]),\n",
       " array([1, 2, 5]))"
      ]
     },
     "execution_count": 30,
     "metadata": {},
     "output_type": "execute_result"
    }
   ],
   "source": [
    "# Example: logic values\n",
    "my_index = np.array([True, True, False, False, True])\n",
    "my_index, x, x[my_index]  # logical indexing"
   ]
  },
  {
   "cell_type": "code",
   "execution_count": 31,
   "metadata": {},
   "outputs": [
    {
     "data": {
      "text/plain": [
       "array([4, 5])"
      ]
     },
     "execution_count": 31,
     "metadata": {},
     "output_type": "execute_result"
    }
   ],
   "source": [
    "high = x > 3\n",
    "\n",
    "x[high]"
   ]
  },
  {
   "cell_type": "markdown",
   "metadata": {},
   "source": [
    "### 2D Numpy Arrays\n",
    "Consider we have the weight and height of 6 baseball players. The height (in inches) of each player is: 72, 78, 69, 71, 76, 79; and the corresponding weight (in pounds) is: 180, 215, 210, 188, 176, 209."
   ]
  },
  {
   "cell_type": "markdown",
   "metadata": {},
   "source": [
    "<img src=\"Table.png\">"
   ]
  },
  {
   "cell_type": "code",
   "execution_count": 32,
   "metadata": {},
   "outputs": [
    {
     "data": {
      "text/plain": [
       "array([[ 72,  78,  69,  71,  76,  79],\n",
       "       [180, 215, 210, 188, 176, 209]])"
      ]
     },
     "execution_count": 32,
     "metadata": {},
     "output_type": "execute_result"
    }
   ],
   "source": [
    "## Constructing 2d array\n",
    "list_2d = [[72,78, 69,71,76, 79],[180, 215, 210, 188, 176, 209]] ## row by row\n",
    "np_2d = np.array(list_2d)\n",
    "np_2d"
   ]
  },
  {
   "cell_type": "code",
   "execution_count": 33,
   "metadata": {},
   "outputs": [],
   "source": [
    "# For 2-D array x, x[i,j] represents the ith row and jth column\n",
    "# Use \":\" for slicing. \n",
    "## i:j stands for from ith element (include i) to the jth element(not include j)\n",
    "## if i and j are not specified, then extract all elements"
   ]
  },
  {
   "cell_type": "code",
   "execution_count": 34,
   "metadata": {},
   "outputs": [
    {
     "name": "stdout",
     "output_type": "stream",
     "text": [
      "[[ 72  78  69]\n",
      " [180 215 210]]\n",
      "[[ 72  78  69]\n",
      " [180 215 210]]\n",
      "[ 69 210]\n",
      "[72 78 69 71 76 79]\n"
     ]
    }
   ],
   "source": [
    "print(np_2d[0:2,0:3])\n",
    "print(np_2d[:2, :3])\n",
    "print(np_2d[:,2])\n",
    "print(np_2d[0,:])"
   ]
  },
  {
   "cell_type": "markdown",
   "metadata": {},
   "source": [
    "### Practice\n",
    "1. Multiply players' weight by 0.454 to convert from pounds to kilograms. Store the resulting numpy array as weight_kg.\n",
    "2. Use height and weight_kg to calculate the BMI of each player and save the result numpy array as bmi. BMI can be obtained as follows. (Note: 1 meter = 40 inches) \n",
    "\n",
    "$$BMI = \\frac{weight(kg)}{height(m)^2}$$\n",
    "\n",
    "3. Report the weight (in kg) of players with bmi greater than 25.\n"
   ]
  },
  {
   "cell_type": "code",
   "execution_count": null,
   "metadata": {},
   "outputs": [],
   "source": []
  },
  {
   "cell_type": "code",
   "execution_count": null,
   "metadata": {},
   "outputs": [],
   "source": []
  }
 ],
 "metadata": {
  "kernelspec": {
   "display_name": "Python 3 (ipykernel)",
   "language": "python",
   "name": "python3"
  },
  "language_info": {
   "codemirror_mode": {
    "name": "ipython",
    "version": 3
   },
   "file_extension": ".py",
   "mimetype": "text/x-python",
   "name": "python",
   "nbconvert_exporter": "python",
   "pygments_lexer": "ipython3",
   "version": "3.9.12"
  }
 },
 "nbformat": 4,
 "nbformat_minor": 4
}

